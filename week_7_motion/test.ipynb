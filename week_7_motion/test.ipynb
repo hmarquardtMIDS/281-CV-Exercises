{
 "cells": [
  {
   "cell_type": "code",
   "execution_count": 5,
   "metadata": {},
   "outputs": [],
   "source": [
    "import cv2\n",
    "\n",
    "def extract_frames(video_path, n, output_dir):\n",
    "    # Open the video file\n",
    "    cap = cv2.VideoCapture(video_path)\n",
    "    \n",
    "    # Check if video opened successfully\n",
    "    if not cap.isOpened():\n",
    "        print(\"Error: Could not open video.\")\n",
    "        return\n",
    "    \n",
    "    # Read the first frame\n",
    "    ret, first_frame = cap.read()\n",
    "    if ret:\n",
    "        cv2.imwrite(f\"{output_dir}/frame_1.jpg\", first_frame)\n",
    "    else:\n",
    "        print(\"Error: Could not read the first frame.\")\n",
    "        return\n",
    "    \n",
    "    # Set the video position to the nth frame\n",
    "    cap.set(cv2.CAP_PROP_POS_FRAMES, n-1)\n",
    "    \n",
    "    # Read the nth frame\n",
    "    ret, nth_frame = cap.read()\n",
    "    if ret:\n",
    "        cv2.imwrite(f\"{output_dir}/frame_{n}.jpg\", nth_frame)\n",
    "    else:\n",
    "        print(f\"Error: Could not read the {n}th frame.\")\n",
    "    \n",
    "    # Release the video capture object\n",
    "    cap.release()\n",
    "\n",
    "# Example usage\n",
    "video_path = 'golf_swing.mp4'\n",
    "n = 100  # Replace with the desired frame number\n",
    "output_dir = '.'  # Current directory\n",
    "extract_frames(video_path, n, output_dir)"
   ]
  },
  {
   "cell_type": "code",
   "execution_count": null,
   "metadata": {},
   "outputs": [],
   "source": []
  }
 ],
 "metadata": {
  "kernelspec": {
   "display_name": "venv",
   "language": "python",
   "name": "python3"
  },
  "language_info": {
   "codemirror_mode": {
    "name": "ipython",
    "version": 3
   },
   "file_extension": ".py",
   "mimetype": "text/x-python",
   "name": "python",
   "nbconvert_exporter": "python",
   "pygments_lexer": "ipython3",
   "version": "3.11.0"
  }
 },
 "nbformat": 4,
 "nbformat_minor": 2
}
