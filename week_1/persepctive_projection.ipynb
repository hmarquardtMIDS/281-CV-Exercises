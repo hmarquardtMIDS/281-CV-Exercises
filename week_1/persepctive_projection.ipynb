{
 "cells": [
  {
   "cell_type": "code",
   "execution_count": 2,
   "metadata": {},
   "outputs": [
    {
     "ename": "ValueError",
     "evalue": "shapes (8,3) and (4,4) not aligned: 3 (dim 1) != 4 (dim 0)",
     "output_type": "error",
     "traceback": [
      "\u001b[0;31m---------------------------------------------------------------------------\u001b[0m",
      "\u001b[0;31mValueError\u001b[0m                                Traceback (most recent call last)",
      "Cell \u001b[0;32mIn[2], line 42\u001b[0m\n\u001b[1;32m     39\u001b[0m cube_vertices_view \u001b[38;5;241m=\u001b[39m np\u001b[38;5;241m.\u001b[39mdot(cube_vertices \u001b[38;5;241m-\u001b[39m camera_position, camera_orientation\u001b[38;5;241m.\u001b[39mT)\n\u001b[1;32m     41\u001b[0m \u001b[38;5;66;03m# Apply the perspective projection\u001b[39;00m\n\u001b[0;32m---> 42\u001b[0m cube_vertices_screen \u001b[38;5;241m=\u001b[39m \u001b[43mnp\u001b[49m\u001b[38;5;241;43m.\u001b[39;49m\u001b[43mdot\u001b[49m\u001b[43m(\u001b[49m\u001b[43mcube_vertices_view\u001b[49m\u001b[43m,\u001b[49m\u001b[43m \u001b[49m\u001b[43mprojection_matrix\u001b[49m\u001b[38;5;241;43m.\u001b[39;49m\u001b[43mT\u001b[49m\u001b[43m)\u001b[49m\n\u001b[1;32m     43\u001b[0m cube_vertices_screen[:, \u001b[38;5;241m0\u001b[39m] \u001b[38;5;241m/\u001b[39m\u001b[38;5;241m=\u001b[39m cube_vertices_screen[:, \u001b[38;5;241m2\u001b[39m]\n\u001b[1;32m     44\u001b[0m cube_vertices_screen[:, \u001b[38;5;241m1\u001b[39m] \u001b[38;5;241m/\u001b[39m\u001b[38;5;241m=\u001b[39m cube_vertices_screen[:, \u001b[38;5;241m2\u001b[39m]\n",
      "\u001b[0;31mValueError\u001b[0m: shapes (8,3) and (4,4) not aligned: 3 (dim 1) != 4 (dim 0)"
     ]
    }
   ],
   "source": [
    "import numpy as np\n",
    "import math\n",
    "import matplotlib.pyplot as plt\n",
    "# from mpl_toolkits.mplot3d import Axes3D\n",
    "\n",
    "# Define the cube vertices in 3D space\n",
    "cube_vertices = np.array([\n",
    "    [-1, -1, -1], [1, -1, -1], [1, 1, -1], [-1, 1, -1],\n",
    "    [-1, -1, 1], [1, -1, 1], [1, 1, 1], [-1, 1, 1]\n",
    "])\n",
    "\n",
    "# Define the camera parameters\n",
    "camera_position = np.array([0, 0, 5])\n",
    "camera_target = np.array([0, 0, 0])\n",
    "camera_up = np.array([0, 1, 0])\n",
    "field_of_view = 45  # in degrees\n",
    "aspect_ratio = 1.0  # width / height\n",
    "near = 0.1\n",
    "far = 100.0\n",
    "\n",
    "# Calculate the camera orientation matrix\n",
    "camera_z = camera_position - camera_target\n",
    "camera_z = camera_z / np.linalg.norm(camera_z)\n",
    "camera_x = np.cross(camera_up, camera_z)\n",
    "camera_x = camera_x / np.linalg.norm(camera_x)\n",
    "camera_y = np.cross(camera_z, camera_x)\n",
    "camera_orientation = np.column_stack((camera_x, camera_y, camera_z))\n",
    "\n",
    "# Calculate the projection matrix\n",
    "f = 1.0 / math.tan(math.radians(field_of_view) / 2)\n",
    "projection_matrix = np.array([\n",
    "    [f / aspect_ratio, 0, 0, 0],\n",
    "    [0, f, 0, 0],\n",
    "    [0, 0, (near + far) / (near - far), -1],\n",
    "    [0, 0, (2 * near * far) / (near - far), 0]\n",
    "])\n",
    "\n",
    "# Transform the cube vertices to the camera's view\n",
    "cube_vertices_view = np.dot(cube_vertices - camera_position, camera_orientation.T)\n",
    "\n",
    "# Apply the perspective projection\n",
    "cube_vertices_screen = np.dot(cube_vertices_view, projection_matrix.T)\n",
    "cube_vertices_screen[:, 0] /= cube_vertices_screen[:, 2]\n",
    "cube_vertices_screen[:, 1] /= cube_vertices_screen[:, 2]\n",
    "\n",
    "# Render the cube on a 3D Matplotlib plot\n",
    "fig = plt.figure()\n",
    "ax = fig.add_subplot(111, projection='3d')\n",
    "\n",
    "# Draw the cube edges\n",
    "for i in range(0, 8, 2):\n",
    "    ax.plot([cube_vertices_screen[i, 0], cube_vertices_screen[i+1, 0]],\n",
    "           [cube_vertices_screen[i, 1], cube_vertices_screen[i+1, 1]],\n",
    "           [cube_vertices_screen[i, 2], cube_vertices_screen[i+1, 2]], color='white')\n",
    "    ax.plot([cube_vertices_screen[i], cube_vertices_screen[i+4]],\n",
    "           [cube_vertices_screen[i+1], cube_vertices_screen[i+5]],\n",
    "           [cube_vertices_screen[i+2], cube_vertices_screen[i+6]], color='white')\n",
    "\n",
    "ax.set_xlim([-1, 1])\n",
    "ax.set_ylim([-1, 1])\n",
    "ax.set_zlim([-1, 1])\n",
    "ax.set_xlabel('X')\n",
    "ax.set_ylabel('Y')\n",
    "ax.set_zlabel('Z')\n",
    "plt.title('Cube with Perspective Projection')\n",
    "plt.show()"
   ]
  },
  {
   "cell_type": "code",
   "execution_count": null,
   "metadata": {},
   "outputs": [],
   "source": []
  }
 ],
 "metadata": {
  "kernelspec": {
   "display_name": "venv",
   "language": "python",
   "name": "python3"
  },
  "language_info": {
   "codemirror_mode": {
    "name": "ipython",
    "version": 3
   },
   "file_extension": ".py",
   "mimetype": "text/x-python",
   "name": "python",
   "nbconvert_exporter": "python",
   "pygments_lexer": "ipython3",
   "version": "3.11.0"
  }
 },
 "nbformat": 4,
 "nbformat_minor": 2
}
